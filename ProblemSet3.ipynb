{
 "cells": [
  {
   "cell_type": "markdown",
   "id": "d45fd75b",
   "metadata": {},
   "source": [
    "## Name: Smit Jayeshbhai Patel\n",
    "## Student ID: 200511076\n",
    "## Problem Set 3\n",
    "\n",
    "# Question 1"
   ]
  },
  {
   "cell_type": "code",
   "execution_count": 87,
   "id": "a6661c8f",
   "metadata": {},
   "outputs": [
    {
     "name": "stdout",
     "output_type": "stream",
     "text": [
      "Index(['user_id', 'age', 'gender', 'occupation', 'zip_code'], dtype='object')\n",
      "['technician' 'other' 'writer' 'executive' 'administrator' 'student'\n",
      " 'lawyer' 'educator' 'scientist' 'entertainment' 'programmer' 'librarian'\n",
      " 'homemaker' 'artist' 'engineer' 'marketing' 'none' 'healthcare' 'retired'\n",
      " 'salesman' 'doctor']\n",
      "Step 4 = \n",
      " occupation\n",
      "administrator    38.746835\n",
      "artist           31.392857\n",
      "doctor           43.571429\n",
      "educator         42.010526\n",
      "engineer         36.388060\n",
      "entertainment    29.222222\n",
      "executive        38.718750\n",
      "healthcare       41.562500\n",
      "homemaker        32.571429\n",
      "lawyer           36.750000\n",
      "librarian        40.000000\n",
      "marketing        37.615385\n",
      "none             26.555556\n",
      "other            34.523810\n",
      "programmer       33.121212\n",
      "retired          63.071429\n",
      "salesman         35.666667\n",
      "scientist        35.548387\n",
      "student          22.081633\n",
      "technician       33.148148\n",
      "writer           36.311111\n",
      "Name: age, dtype: float64\n",
      "\n",
      "\n",
      "\n",
      "\n",
      "Step 5\n",
      "occupation\n",
      "homemaker        0.142857\n",
      "healthcare       0.312500\n",
      "librarian        0.431373\n",
      "artist           0.535714\n",
      "administrator    0.544304\n",
      "none             0.555556\n",
      "writer           0.577778\n",
      "marketing        0.615385\n",
      "other            0.657143\n",
      "student          0.693878\n",
      "educator         0.726316\n",
      "salesman         0.750000\n",
      "lawyer           0.833333\n",
      "entertainment    0.888889\n",
      "scientist        0.903226\n",
      "executive        0.906250\n",
      "programmer       0.909091\n",
      "retired          0.928571\n",
      "technician       0.962963\n",
      "engineer         0.970149\n",
      "doctor           1.000000\n",
      "Name: males, dtype: float64\n",
      "\n",
      "\n",
      "Step 6\n",
      "\n",
      "\n",
      "Min Age \n",
      "occupation\n",
      "administrator    21\n",
      "artist           19\n",
      "doctor           28\n",
      "educator         23\n",
      "engineer         22\n",
      "entertainment    15\n",
      "executive        22\n",
      "healthcare       22\n",
      "homemaker        20\n",
      "lawyer           21\n",
      "librarian        23\n",
      "marketing        24\n",
      "none             11\n",
      "other            13\n",
      "programmer       20\n",
      "retired          51\n",
      "salesman         18\n",
      "scientist        23\n",
      "student           7\n",
      "technician       21\n",
      "writer           18\n",
      "Name: age, dtype: int64\n",
      "\n",
      "\n",
      "Max Age \n",
      "occupation\n",
      "administrator    70\n",
      "artist           48\n",
      "doctor           64\n",
      "educator         63\n",
      "engineer         70\n",
      "entertainment    50\n",
      "executive        69\n",
      "healthcare       62\n",
      "homemaker        50\n",
      "lawyer           53\n",
      "librarian        69\n",
      "marketing        55\n",
      "none             55\n",
      "other            64\n",
      "programmer       63\n",
      "retired          73\n",
      "salesman         66\n",
      "scientist        55\n",
      "student          42\n",
      "technician       55\n",
      "writer           60\n",
      "Name: age, dtype: int64\n",
      "\n",
      "\n",
      " Step 7\n",
      "Mean of Males\n",
      "occupation\n",
      "administrator    0.544304\n",
      "artist           0.535714\n",
      "doctor           1.000000\n",
      "educator         0.726316\n",
      "engineer         0.970149\n",
      "entertainment    0.888889\n",
      "executive        0.906250\n",
      "healthcare       0.312500\n",
      "homemaker        0.142857\n",
      "lawyer           0.833333\n",
      "librarian        0.431373\n",
      "marketing        0.615385\n",
      "none             0.555556\n",
      "other            0.657143\n",
      "programmer       0.909091\n",
      "retired          0.928571\n",
      "salesman         0.750000\n",
      "scientist        0.903226\n",
      "student          0.693878\n",
      "technician       0.962963\n",
      "writer           0.577778\n",
      "Name: males, dtype: float64\n",
      "Mean of Females\n",
      "occupation\n",
      "administrator    0.455696\n",
      "artist           0.464286\n",
      "doctor           0.000000\n",
      "educator         0.273684\n",
      "engineer         0.029851\n",
      "entertainment    0.111111\n",
      "executive        0.093750\n",
      "healthcare       0.687500\n",
      "homemaker        0.857143\n",
      "lawyer           0.166667\n",
      "librarian        0.568627\n",
      "marketing        0.384615\n",
      "none             0.444444\n",
      "other            0.342857\n",
      "programmer       0.090909\n",
      "retired          0.071429\n",
      "salesman         0.250000\n",
      "scientist        0.096774\n",
      "student          0.306122\n",
      "technician       0.037037\n",
      "writer           0.422222\n",
      "Name: females, dtype: float64\n",
      "\n",
      "\n",
      " Step 8\n",
      "                    males    females\n",
      "occupation                          \n",
      "administrator   54.430380  45.569620\n",
      "artist          53.571429  46.428571\n",
      "doctor         100.000000   0.000000\n",
      "educator        72.631579  27.368421\n",
      "engineer        97.014925   2.985075\n",
      "entertainment   88.888889  11.111111\n",
      "executive       90.625000   9.375000\n",
      "healthcare      31.250000  68.750000\n",
      "homemaker       14.285714  85.714286\n",
      "lawyer          83.333333  16.666667\n",
      "librarian       43.137255  56.862745\n",
      "marketing       61.538462  38.461538\n",
      "none            55.555556  44.444444\n",
      "other           65.714286  34.285714\n",
      "programmer      90.909091   9.090909\n",
      "retired         92.857143   7.142857\n",
      "salesman        75.000000  25.000000\n",
      "scientist       90.322581   9.677419\n",
      "student         69.387755  30.612245\n",
      "technician      96.296296   3.703704\n",
      "writer          57.777778  42.222222\n"
     ]
    }
   ],
   "source": [
    "import pandas as pd\n",
    "import numpy as np\n",
    "import matplotlib.pyplot as plt\n",
    "import seaborn as sns\n",
    "\n",
    "users = pd.read_csv('question1Data.csv')\n",
    "users.head()\n",
    "print(users.columns)\n",
    "print(users['occupation'].unique())\n",
    "mean_occupation = users.groupby('occupation')['age'].mean()\n",
    "print(\"Step 4 = \\n\",mean_occupation)\n",
    "\n",
    "\n",
    "users['males'] = users['gender']=='M'\n",
    "mean_males = users.groupby('occupation')['males'].mean()\n",
    "print(\"\\n\\n\\n\\nStep 5\")\n",
    "print(mean_males.sort_values())\n",
    "\n",
    "\n",
    "\n",
    "print(\"\\n\\nStep 6\")\n",
    "min_age = users.groupby('occupation')['age'].min()\n",
    "max_age = users.groupby('occupation')['age'].max()\n",
    "print(\"\\n\\nMin Age \")\n",
    "print(min_age)\n",
    "print(\"\\n\\nMax Age \")\n",
    "print(max_age)\n",
    "\n",
    "print(\"\\n\\n Step 7\")\n",
    "users['females'] = users['gender']=='F'\n",
    "mean_males = users.groupby('occupation')['males'].mean()\n",
    "mean_females = users.groupby('occupation')['females'].mean()\n",
    "print(\"Mean of Males\")\n",
    "print(mean_males)\n",
    "print(\"Mean of Females\")\n",
    "print(mean_females)\n",
    "print(\"\\n\\n Step 8\")\n",
    "occupations = users.groupby('occupation')[['males', 'females']].mean()*100\n",
    "print(occupations)"
   ]
  },
  {
   "cell_type": "markdown",
   "id": "ff0b756f",
   "metadata": {},
   "source": [
    "# Question 2"
   ]
  },
  {
   "cell_type": "code",
   "execution_count": 22,
   "id": "4f572dc7",
   "metadata": {},
   "outputs": [],
   "source": [
    "#step 1 ,2 & 3\n",
    "url = 'https://raw.githubusercontent.com/guipsamora/pandas_exercises/master/02_Filtering_%26_Sorting/Euro12/Euro_2012_stats_TEAM.csv'\n",
    "euro12 = pd.read_csv(url)"
   ]
  },
  {
   "cell_type": "code",
   "execution_count": 24,
   "id": "96b978ed",
   "metadata": {},
   "outputs": [
    {
     "name": "stdout",
     "output_type": "stream",
     "text": [
      "0      4\n",
      "1      4\n",
      "2      4\n",
      "3      5\n",
      "4      3\n",
      "5     10\n",
      "6      5\n",
      "7      6\n",
      "8      2\n",
      "9      2\n",
      "10     6\n",
      "11     1\n",
      "12     5\n",
      "13    12\n",
      "14     5\n",
      "15     2\n",
      "Name: Goals, dtype: int64\n"
     ]
    }
   ],
   "source": [
    "#Step 4\n",
    "goals = euro12['Goals']\n",
    "print(goals)"
   ]
  },
  {
   "cell_type": "code",
   "execution_count": 25,
   "id": "1331d5ab",
   "metadata": {},
   "outputs": [
    {
     "name": "stdout",
     "output_type": "stream",
     "text": [
      "Number of teams:  16\n"
     ]
    }
   ],
   "source": [
    "# Step 5\n",
    "num_teams = euro12['Team'].nunique()\n",
    "print(\"Number of teams: \", num_teams)"
   ]
  },
  {
   "cell_type": "code",
   "execution_count": 26,
   "id": "2f0dd6af",
   "metadata": {},
   "outputs": [
    {
     "name": "stdout",
     "output_type": "stream",
     "text": [
      "Number of columns:  35\n"
     ]
    }
   ],
   "source": [
    "# Step 6\n",
    "num_cols = len(euro12.columns)\n",
    "print(\"Number of columns: \", num_cols)"
   ]
  },
  {
   "cell_type": "code",
   "execution_count": 27,
   "id": "9c33d439",
   "metadata": {},
   "outputs": [
    {
     "name": "stdout",
     "output_type": "stream",
     "text": [
      "                   Team  Yellow Cards  Red Cards\n",
      "0               Croatia             9          0\n",
      "1        Czech Republic             7          0\n",
      "2               Denmark             4          0\n",
      "3               England             5          0\n",
      "4                France             6          0\n",
      "5               Germany             4          0\n",
      "6                Greece             9          1\n",
      "7                 Italy            16          0\n",
      "8           Netherlands             5          0\n",
      "9                Poland             7          1\n",
      "10             Portugal            12          0\n",
      "11  Republic of Ireland             6          1\n",
      "12               Russia             6          0\n",
      "13                Spain            11          0\n",
      "14               Sweden             7          0\n",
      "15              Ukraine             5          0\n"
     ]
    }
   ],
   "source": [
    "# Step 7\n",
    "discipline = euro12[['Team', 'Yellow Cards', 'Red Cards']]\n",
    "print(discipline)"
   ]
  },
  {
   "cell_type": "code",
   "execution_count": 28,
   "id": "4da2a84e",
   "metadata": {},
   "outputs": [
    {
     "name": "stdout",
     "output_type": "stream",
     "text": [
      "                   Team  Yellow Cards  Red Cards\n",
      "6                Greece             9          1\n",
      "9                Poland             7          1\n",
      "11  Republic of Ireland             6          1\n",
      "7                 Italy            16          0\n",
      "10             Portugal            12          0\n",
      "13                Spain            11          0\n",
      "0               Croatia             9          0\n",
      "1        Czech Republic             7          0\n",
      "14               Sweden             7          0\n",
      "4                France             6          0\n",
      "12               Russia             6          0\n",
      "3               England             5          0\n",
      "8           Netherlands             5          0\n",
      "15              Ukraine             5          0\n",
      "2               Denmark             4          0\n",
      "5               Germany             4          0\n"
     ]
    }
   ],
   "source": [
    "# Step 8\n",
    "discipline_sorted = discipline.sort_values(['Red Cards', 'Yellow Cards'], ascending=[False, False])\n",
    "print(discipline_sorted)"
   ]
  },
  {
   "cell_type": "code",
   "execution_count": 29,
   "id": "b0ddf687",
   "metadata": {},
   "outputs": [
    {
     "name": "stdout",
     "output_type": "stream",
     "text": [
      "Mean Yellow Cards per team:  7.4375\n"
     ]
    }
   ],
   "source": [
    "# Step 9\n",
    "mean_yellow_cards = discipline['Yellow Cards'].mean()\n",
    "print(\"Mean Yellow Cards per team: \", mean_yellow_cards)"
   ]
  },
  {
   "cell_type": "code",
   "execution_count": 30,
   "id": "e0d05207",
   "metadata": {},
   "outputs": [
    {
     "name": "stdout",
     "output_type": "stream",
     "text": [
      "       Team  Goals  Shots on target  Shots off target Shooting Accuracy  \\\n",
      "5   Germany     10               32                32             47.8%   \n",
      "13    Spain     12               42                33             55.9%   \n",
      "\n",
      "   % Goals-to-shots  Total shots (inc. Blocked)  Hit Woodwork  Penalty goals  \\\n",
      "5             15.6%                          80             2              1   \n",
      "13            16.0%                         100             0              1   \n",
      "\n",
      "    Penalties not scored  ...  Saves made  Saves-to-shots ratio  Fouls Won  \\\n",
      "5                      0  ...          10                 62.6%         63   \n",
      "13                     0  ...          15                 93.8%        102   \n",
      "\n",
      "   Fouls Conceded  Offsides  Yellow Cards  Red Cards  Subs on  Subs off  \\\n",
      "5              49        12             4          0       15        15   \n",
      "13             83        19            11          0       17        17   \n",
      "\n",
      "    Players Used  \n",
      "5             17  \n",
      "13            18  \n",
      "\n",
      "[2 rows x 35 columns]\n"
     ]
    }
   ],
   "source": [
    "# Step 10\n",
    "goals_filter = euro12['Goals'] > 6\n",
    "high_scorers = euro12[goals_filter]\n",
    "print(high_scorers)"
   ]
  },
  {
   "cell_type": "code",
   "execution_count": 31,
   "id": "c83d95d3",
   "metadata": {},
   "outputs": [
    {
     "name": "stdout",
     "output_type": "stream",
     "text": [
      "      Team  Goals  Shots on target  Shots off target Shooting Accuracy  \\\n",
      "5  Germany     10               32                32             47.8%   \n",
      "6   Greece      5                8                18             30.7%   \n",
      "\n",
      "  % Goals-to-shots  Total shots (inc. Blocked)  Hit Woodwork  Penalty goals  \\\n",
      "5            15.6%                          80             2              1   \n",
      "6            19.2%                          32             1              1   \n",
      "\n",
      "   Penalties not scored  ...  Saves made  Saves-to-shots ratio  Fouls Won  \\\n",
      "5                     0  ...          10                 62.6%         63   \n",
      "6                     1  ...          13                 65.1%         67   \n",
      "\n",
      "  Fouls Conceded  Offsides  Yellow Cards  Red Cards  Subs on  Subs off  \\\n",
      "5             49        12             4          0       15        15   \n",
      "6             48        12             9          1       12        12   \n",
      "\n",
      "   Players Used  \n",
      "5            17  \n",
      "6            20  \n",
      "\n",
      "[2 rows x 35 columns]\n"
     ]
    }
   ],
   "source": [
    "# Step 11\n",
    "g_teams = euro12[euro12['Team'].str.startswith('G')]\n",
    "print(g_teams)"
   ]
  },
  {
   "cell_type": "code",
   "execution_count": 32,
   "id": "411e4304",
   "metadata": {},
   "outputs": [
    {
     "name": "stdout",
     "output_type": "stream",
     "text": [
      "                   Team  Goals  Shots on target  Shots off target  \\\n",
      "0               Croatia      4               13                12   \n",
      "1        Czech Republic      4               13                18   \n",
      "2               Denmark      4               10                10   \n",
      "3               England      5               11                18   \n",
      "4                France      3               22                24   \n",
      "5               Germany     10               32                32   \n",
      "6                Greece      5                8                18   \n",
      "7                 Italy      6               34                45   \n",
      "8           Netherlands      2               12                36   \n",
      "9                Poland      2               15                23   \n",
      "10             Portugal      6               22                42   \n",
      "11  Republic of Ireland      1                7                12   \n",
      "12               Russia      5                9                31   \n",
      "13                Spain     12               42                33   \n",
      "14               Sweden      5               17                19   \n",
      "15              Ukraine      2                7                26   \n",
      "\n",
      "   Shooting Accuracy % Goals-to-shots  Total shots (inc. Blocked)  \n",
      "0              51.9%            16.0%                          32  \n",
      "1              41.9%            12.9%                          39  \n",
      "2              50.0%            20.0%                          27  \n",
      "3              50.0%            17.2%                          40  \n",
      "4              37.9%             6.5%                          65  \n",
      "5              47.8%            15.6%                          80  \n",
      "6              30.7%            19.2%                          32  \n",
      "7              43.0%             7.5%                         110  \n",
      "8              25.0%             4.1%                          60  \n",
      "9              39.4%             5.2%                          48  \n",
      "10             34.3%             9.3%                          82  \n",
      "11             36.8%             5.2%                          28  \n",
      "12             22.5%            12.5%                          59  \n",
      "13             55.9%            16.0%                         100  \n",
      "14             47.2%            13.8%                          39  \n",
      "15             21.2%             6.0%                          38  \n"
     ]
    }
   ],
   "source": [
    "# Step 12\n",
    "first_7_cols = euro12.iloc[:, :7]\n",
    "print(first_7_cols)"
   ]
  },
  {
   "cell_type": "code",
   "execution_count": 33,
   "id": "4fb090d1",
   "metadata": {},
   "outputs": [
    {
     "name": "stdout",
     "output_type": "stream",
     "text": [
      "                   Team  Goals  Shots on target  Shots off target  \\\n",
      "0               Croatia      4               13                12   \n",
      "1        Czech Republic      4               13                18   \n",
      "2               Denmark      4               10                10   \n",
      "3               England      5               11                18   \n",
      "4                France      3               22                24   \n",
      "5               Germany     10               32                32   \n",
      "6                Greece      5                8                18   \n",
      "7                 Italy      6               34                45   \n",
      "8           Netherlands      2               12                36   \n",
      "9                Poland      2               15                23   \n",
      "10             Portugal      6               22                42   \n",
      "11  Republic of Ireland      1                7                12   \n",
      "12               Russia      5                9                31   \n",
      "13                Spain     12               42                33   \n",
      "14               Sweden      5               17                19   \n",
      "15              Ukraine      2                7                26   \n",
      "\n",
      "   Shooting Accuracy % Goals-to-shots  Total shots (inc. Blocked)  \\\n",
      "0              51.9%            16.0%                          32   \n",
      "1              41.9%            12.9%                          39   \n",
      "2              50.0%            20.0%                          27   \n",
      "3              50.0%            17.2%                          40   \n",
      "4              37.9%             6.5%                          65   \n",
      "5              47.8%            15.6%                          80   \n",
      "6              30.7%            19.2%                          32   \n",
      "7              43.0%             7.5%                         110   \n",
      "8              25.0%             4.1%                          60   \n",
      "9              39.4%             5.2%                          48   \n",
      "10             34.3%             9.3%                          82   \n",
      "11             36.8%             5.2%                          28   \n",
      "12             22.5%            12.5%                          59   \n",
      "13             55.9%            16.0%                         100   \n",
      "14             47.2%            13.8%                          39   \n",
      "15             21.2%             6.0%                          38   \n",
      "\n",
      "    Hit Woodwork  Penalty goals  Penalties not scored  ...  Clean Sheets  \\\n",
      "0              0              0                     0  ...             0   \n",
      "1              0              0                     0  ...             1   \n",
      "2              1              0                     0  ...             1   \n",
      "3              0              0                     0  ...             2   \n",
      "4              1              0                     0  ...             1   \n",
      "5              2              1                     0  ...             1   \n",
      "6              1              1                     1  ...             1   \n",
      "7              2              0                     0  ...             2   \n",
      "8              2              0                     0  ...             0   \n",
      "9              0              0                     0  ...             0   \n",
      "10             6              0                     0  ...             2   \n",
      "11             0              0                     0  ...             0   \n",
      "12             2              0                     0  ...             0   \n",
      "13             0              1                     0  ...             5   \n",
      "14             3              0                     0  ...             1   \n",
      "15             0              0                     0  ...             0   \n",
      "\n",
      "    Blocks  Goals conceded Saves made  Saves-to-shots ratio  Fouls Won  \\\n",
      "0       10               3         13                 81.3%         41   \n",
      "1       10               6          9                 60.1%         53   \n",
      "2       10               5         10                 66.7%         25   \n",
      "3       29               3         22                 88.1%         43   \n",
      "4        7               5          6                 54.6%         36   \n",
      "5       11               6         10                 62.6%         63   \n",
      "6       23               7         13                 65.1%         67   \n",
      "7       18               7         20                 74.1%        101   \n",
      "8        9               5         12                 70.6%         35   \n",
      "9        8               3          6                 66.7%         48   \n",
      "10      11               4         10                 71.5%         73   \n",
      "11      23               9         17                 65.4%         43   \n",
      "12       8               3         10                 77.0%         34   \n",
      "13       8               1         15                 93.8%        102   \n",
      "14      12               5          8                 61.6%         35   \n",
      "15       4               4         13                 76.5%         48   \n",
      "\n",
      "    Fouls Conceded  Offsides  Yellow Cards  Red Cards  \n",
      "0               62         2             9          0  \n",
      "1               73         8             7          0  \n",
      "2               38         8             4          0  \n",
      "3               45         6             5          0  \n",
      "4               51         5             6          0  \n",
      "5               49        12             4          0  \n",
      "6               48        12             9          1  \n",
      "7               89        16            16          0  \n",
      "8               30         3             5          0  \n",
      "9               56         3             7          1  \n",
      "10              90        10            12          0  \n",
      "11              51        11             6          1  \n",
      "12              43         4             6          0  \n",
      "13              83        19            11          0  \n",
      "14              51         7             7          0  \n",
      "15              31         4             5          0  \n",
      "\n",
      "[16 rows x 32 columns]\n"
     ]
    }
   ],
   "source": [
    "# Step 13\n",
    "all_except_last_3_cols = euro12.iloc[:, :-3]\n",
    "print(all_except_last_3_cols)"
   ]
  },
  {
   "cell_type": "code",
   "execution_count": 35,
   "id": "8be7949e",
   "metadata": {},
   "outputs": [
    {
     "name": "stdout",
     "output_type": "stream",
     "text": [
      "       Team Shooting Accuracy\n",
      "3   England             50.0%\n",
      "7     Italy             43.0%\n",
      "12   Russia             22.5%\n"
     ]
    }
   ],
   "source": [
    "# Step 14\n",
    "s_acc = euro12.loc[euro12['Team'].isin(['England', 'Italy', 'Russia']), ['Team', 'Shooting Accuracy']]\n",
    "print(s_acc)"
   ]
  },
  {
   "cell_type": "markdown",
   "id": "74234336",
   "metadata": {},
   "source": [
    "# Question 3"
   ]
  },
  {
   "cell_type": "code",
   "execution_count": 5,
   "id": "d7fb7c44",
   "metadata": {},
   "outputs": [
    {
     "name": "stdout",
     "output_type": "stream",
     "text": [
      "299\n"
     ]
    }
   ],
   "source": [
    "import pandas as pd\n",
    "import numpy as np\n",
    "\n",
    "series_1 = pd.Series(np.random.randint(1, 4, size=100))\n",
    "series_2 = pd.Series(np.random.randint(1, 3, size=100))\n",
    "series_3 = pd.Series(np.random.randint(10000, 30000, size=100))\n",
    "\n",
    "df = pd.concat([series_1, series_2, series_3], axis=1)\n",
    "df.columns = ['bedrs', 'bathrs', 'price_sqr_meter']\n",
    "\n",
    "bigcolumn = pd.concat([df.bedrs, df.bathrs, df.price_sqr_meter], ignore_index=True)\n",
    "bigcolumn = pd.DataFrame(bigcolumn)\n",
    "\n",
    "print(bigcolumn.index.max())\n",
    "#No, the output is going till 299.\n",
    "\n",
    "bigcolumn = bigcolumn.reset_index(drop=True)"
   ]
  },
  {
   "cell_type": "markdown",
   "id": "8177acbd",
   "metadata": {},
   "source": [
    "# Question 5"
   ]
  },
  {
   "cell_type": "code",
   "execution_count": 36,
   "id": "5a09b739",
   "metadata": {},
   "outputs": [],
   "source": [
    "# Step 1,2 & 3\n",
    "url = 'https://raw.githubusercontent.com/justmarkham/DAT8/master/data/chipotle.tsv'\n",
    "chipo = pd.read_csv(url, sep='\\t')"
   ]
  },
  {
   "cell_type": "code",
   "execution_count": 37,
   "id": "59d9d3fa",
   "metadata": {},
   "outputs": [
    {
     "name": "stdout",
     "output_type": "stream",
     "text": [
      "   order_id  quantity                              item_name  \\\n",
      "0         1         1           Chips and Fresh Tomato Salsa   \n",
      "1         1         1                                   Izze   \n",
      "2         1         1                       Nantucket Nectar   \n",
      "3         1         1  Chips and Tomatillo-Green Chili Salsa   \n",
      "4         2         2                           Chicken Bowl   \n",
      "5         3         1                           Chicken Bowl   \n",
      "6         3         1                          Side of Chips   \n",
      "7         4         1                          Steak Burrito   \n",
      "8         4         1                       Steak Soft Tacos   \n",
      "9         5         1                          Steak Burrito   \n",
      "\n",
      "                                  choice_description item_price  \n",
      "0                                                NaN     $2.39   \n",
      "1                                       [Clementine]     $3.39   \n",
      "2                                            [Apple]     $3.39   \n",
      "3                                                NaN     $2.39   \n",
      "4  [Tomatillo-Red Chili Salsa (Hot), [Black Beans...    $16.98   \n",
      "5  [Fresh Tomato Salsa (Mild), [Rice, Cheese, Sou...    $10.98   \n",
      "6                                                NaN     $1.69   \n",
      "7  [Tomatillo Red Chili Salsa, [Fajita Vegetables...    $11.75   \n",
      "8  [Tomatillo Green Chili Salsa, [Pinto Beans, Ch...     $9.25   \n",
      "9  [Fresh Tomato Salsa, [Rice, Black Beans, Pinto...     $9.25   \n"
     ]
    }
   ],
   "source": [
    "# Step 4\n",
    "print(chipo.head(10))"
   ]
  },
  {
   "cell_type": "code",
   "execution_count": 38,
   "id": "121aa510",
   "metadata": {},
   "outputs": [
    {
     "name": "stdout",
     "output_type": "stream",
     "text": [
      "4622\n"
     ]
    }
   ],
   "source": [
    "# Step 5\n",
    "print(chipo.shape[0])\n"
   ]
  },
  {
   "cell_type": "code",
   "execution_count": 39,
   "id": "bec501bc",
   "metadata": {},
   "outputs": [
    {
     "name": "stdout",
     "output_type": "stream",
     "text": [
      "5\n"
     ]
    }
   ],
   "source": [
    "# Step 6\n",
    "print(chipo.shape[1])\n"
   ]
  },
  {
   "cell_type": "code",
   "execution_count": 40,
   "id": "118c71fa",
   "metadata": {},
   "outputs": [
    {
     "name": "stdout",
     "output_type": "stream",
     "text": [
      "Index(['order_id', 'quantity', 'item_name', 'choice_description',\n",
      "       'item_price'],\n",
      "      dtype='object')\n"
     ]
    }
   ],
   "source": [
    "# Step 7\n",
    "print(chipo.columns)\n"
   ]
  },
  {
   "cell_type": "code",
   "execution_count": 41,
   "id": "63279bd4",
   "metadata": {},
   "outputs": [
    {
     "name": "stdout",
     "output_type": "stream",
     "text": [
      "RangeIndex(start=0, stop=4622, step=1)\n"
     ]
    }
   ],
   "source": [
    "# Step 8\n",
    "print(chipo.index)\n"
   ]
  },
  {
   "cell_type": "code",
   "execution_count": 85,
   "id": "76223b17",
   "metadata": {},
   "outputs": [
    {
     "name": "stdout",
     "output_type": "stream",
     "text": [
      "Most Ordered Item =  Chicken Bowl\n"
     ]
    }
   ],
   "source": [
    "# Step 9\n",
    "most_ordered_item = chipo.groupby('item_name').sum().sort_values('quantity', ascending=False).iloc[0].name\n",
    "print(\"Most Ordered Item = \",most_ordered_item)\n"
   ]
  },
  {
   "cell_type": "code",
   "execution_count": 43,
   "id": "fb050756",
   "metadata": {},
   "outputs": [
    {
     "name": "stdout",
     "output_type": "stream",
     "text": [
      "761\n"
     ]
    }
   ],
   "source": [
    "# Step 10\n",
    "most_ordered_quantity = chipo.groupby('item_name').sum().sort_values('quantity', ascending=False).iloc[0]['quantity']\n",
    "print(\"Toal number times ordered item = \",most_ordered_quantity)\n"
   ]
  },
  {
   "cell_type": "code",
   "execution_count": 86,
   "id": "020a405f",
   "metadata": {},
   "outputs": [
    {
     "data": {
      "text/plain": [
       "choice_description\n",
       "[Diet Coke]    159\n",
       "Name: quantity, dtype: int64"
      ]
     },
     "execution_count": 86,
     "metadata": {},
     "output_type": "execute_result"
    }
   ],
   "source": [
    "# Step 11\n",
    "chipo.groupby('choice_description')['quantity'].sum().sort_values(ascending=False).head(1)\n"
   ]
  },
  {
   "cell_type": "code",
   "execution_count": 45,
   "id": "c501afef",
   "metadata": {},
   "outputs": [
    {
     "name": "stdout",
     "output_type": "stream",
     "text": [
      "Total items ordered: 4972\n"
     ]
    }
   ],
   "source": [
    "# step 12\n",
    "total_items_ordered = chipo['quantity'].sum()\n",
    "print(\"Total items ordered:\", total_items_ordered)"
   ]
  },
  {
   "cell_type": "code",
   "execution_count": 48,
   "id": "c25f125c",
   "metadata": {},
   "outputs": [
    {
     "name": "stdout",
     "output_type": "stream",
     "text": [
      "Total revenue for the period: $39237.02\n"
     ]
    }
   ],
   "source": [
    "# Step 14\n",
    "chipo['item_total'] = chipo['quantity'] * chipo['item_price']\n",
    "\n",
    "total_revenue = chipo['item_total'].sum()\n",
    "\n",
    "print('Total revenue for the period: ${:.2f}'.format(total_revenue))\n"
   ]
  },
  {
   "cell_type": "code",
   "execution_count": 50,
   "id": "4ef3ec59",
   "metadata": {},
   "outputs": [
    {
     "name": "stdout",
     "output_type": "stream",
     "text": [
      "Number of orders made in the period: 1834\n"
     ]
    }
   ],
   "source": [
    "# Step 15\n",
    "num_orders = chipo['order_id'].nunique()\n",
    "print('Number of orders made :', num_orders)\n"
   ]
  },
  {
   "cell_type": "code",
   "execution_count": 51,
   "id": "60428e41",
   "metadata": {},
   "outputs": [
    {
     "name": "stdout",
     "output_type": "stream",
     "text": [
      "Average revenue per order: $21.39\n"
     ]
    }
   ],
   "source": [
    "# Step 16\n",
    "avg_revenue = total_revenue / num_orders\n",
    "print('Average revenue per order: ${:.2f}'.format(avg_revenue))\n"
   ]
  },
  {
   "cell_type": "code",
   "execution_count": 52,
   "id": "1c42a886",
   "metadata": {},
   "outputs": [
    {
     "name": "stdout",
     "output_type": "stream",
     "text": [
      "Number of different items sold: 50\n"
     ]
    }
   ],
   "source": [
    "#Step 17\n",
    "num_items_sold = chipo['item_name'].nunique()\n",
    "print('Number of different items sold:', num_items_sold)\n"
   ]
  },
  {
   "cell_type": "markdown",
   "id": "d4fd0ce1",
   "metadata": {},
   "source": [
    "# Question 6"
   ]
  },
  {
   "cell_type": "code",
   "execution_count": 95,
   "id": "5c1c35c4",
   "metadata": {},
   "outputs": [
    {
     "data": {
      "image/png": "[encoded data removed]",
      "text/plain": [
       "<Figure size 432x288 with 1 Axes>"
      ]
     },
     "metadata": {
      "needs_background": "light"
     },
     "output_type": "display_data"
    }
   ],
   "source": [
    "data = pd.read_csv('us-marriages-divorces-1867-2014.csv')\n",
    "data = data[(data.Year >= 1867) & (data.Year <= 2014)]\n",
    "plt.plot(data.Year, (data.Marriages / data.Population), label='Marriages', color='b')\n",
    "plt.plot(data.Year, (data.Divorces / data.Population), label='Divorces', color='g')\n",
    "plt.title('Number of Marriages and Divorces per Capita in the U.S.between 1867-2014')\n",
    "plt.xlabel('Year')\n",
    "plt.ylabel('Per Capita')\n",
    "plt.legend()\n",
    "\n",
    "\n",
    "plt.show()"
   ]
  },
  {
   "cell_type": "markdown",
   "id": "c2376aba",
   "metadata": {},
   "source": [
    "# Question 7"
   ]
  },
  {
   "cell_type": "code",
   "execution_count": 94,
   "id": "5e9f2103",
   "metadata": {},
   "outputs": [
    {
     "data": {
      "image/png": "[encoded data removed]",
      "text/plain": [
       "<Figure size 432x288 with 1 Axes>"
      ]
     },
     "metadata": {
      "needs_background": "light"
     },
     "output_type": "display_data"
    }
   ],
   "source": [
    "\n",
    "\n",
    "data = pd.read_csv('us-marriages-divorces-1867-2014.csv')\n",
    "data = data[data.Year.isin([1900, 1950, 2000])]\n",
    "data['Marriages_per_capita'] = data.Marriages / data.Population\n",
    "data['Divorces_per_capita'] = data.Divorces / data.Population\n",
    "\n",
    "\n",
    "marriages = plt.bar(data.Year, data.Marriages_per_capita, 10,\n",
    "                    alpha=1, color='b', label='Marriages')\n",
    "divorces = plt.bar(data.Year + bar_width, data.Divorces_per_capita, 10,\n",
    "                   alpha=1, color='g', label='Divorces')\n",
    "\n",
    "plt.title(\"Comparing number of Marriages & Divorces between 1900, 1950 & 2000\")\n",
    "plt.xlabel('Year')\n",
    "plt.ylabel('Per Capita')\n",
    "plt.legend()\n",
    "\n",
    "plt.show()\n"
   ]
  },
  {
   "cell_type": "markdown",
   "id": "e22f2152",
   "metadata": {},
   "source": [
    "# Question 8"
   ]
  },
  {
   "cell_type": "code",
   "execution_count": 66,
   "id": "04b34810",
   "metadata": {},
   "outputs": [
    {
     "data": {
      "image/png": "[encoded data removed]",
      "text/plain": [
       "<Figure size 432x288 with 1 Axes>"
      ]
     },
     "metadata": {
      "needs_background": "light"
     },
     "output_type": "display_data"
    }
   ],
   "source": [
    "data = pd.read_csv('actor_kill_counts.csv')\n",
    "data.sort_values('Count', inplace=True)\n",
    "\n",
    "plt.barh(data.Actor, data.Count, color='b')\n",
    "plt.title('Deadliest Actors in Hollywood')\n",
    "plt.xlabel('Kill Count')\n",
    "plt.ylabel('Actor')\n",
    "plt.show()"
   ]
  },
  {
   "cell_type": "markdown",
   "id": "07a04619",
   "metadata": {},
   "source": [
    "# Question 9"
   ]
  },
  {
   "cell_type": "code",
   "execution_count": 93,
   "id": "7d34e1bf",
   "metadata": {},
   "outputs": [
    {
     "data": {
      "image/png": "[encoded data removed]",
      "text/plain": [
       "<Figure size 432x288 with 1 Axes>"
      ]
     },
     "metadata": {},
     "output_type": "display_data"
    }
   ],
   "source": [
    "data = pd.read_csv('roman-emperor-reigns.csv')\n",
    "assassinated_percent = (len(data[data['Cause_of_Death'] == 'Assassinated']) / len(data)) * 100\n",
    "survived_percent = 100 - assassinated_percent\n",
    "plt.pie([assassinated_percent, survived_percent], labels=['Assassinated', 'Survived'],autopct='%1.1f%%', startangle=90, colors=['red', 'blue'])\n",
    "plt.title('Fraction of All Roman Emperors who were Assassinated')\n",
    "plt.axis('equal')\n",
    "\n",
    "\n",
    "plt.show()"
   ]
  },
  {
   "cell_type": "markdown",
   "id": "65889052",
   "metadata": {},
   "source": [
    "# Question 10"
   ]
  },
  {
   "cell_type": "code",
   "execution_count": 90,
   "id": "40edd176",
   "metadata": {},
   "outputs": [
    {
     "data": {
      "image/png": "[encoded data removed]",
      "text/plain": [
       "<Figure size 432x288 with 2 Axes>"
      ]
     },
     "metadata": {
      "needs_background": "light"
     },
     "output_type": "display_data"
    }
   ],
   "source": [
    "data = pd.read_csv('arcade-revenue-vs-cs-doctorates.csv')\n",
    "plt.scatter(data['Total Arcade Revenue (billions)'], data['Computer Science Doctorates Awarded (US)'], c=data['Year'])\n",
    "plt.title('Relationship between total revenue of Arcade and Computer Science PhDs awarded')\n",
    "plt.colorbar()\n",
    "plt.xlabel('Total Arcade Revenue ')\n",
    "plt.ylabel('Number of Computer Science PhDs')\n",
    "plt.show()\n"
   ]
  },
  {
   "cell_type": "code",
   "execution_count": null,
   "id": "22ff45cc",
   "metadata": {},
   "outputs": [],
   "source": []
  }
 ],
 "metadata": {
  "kernelspec": {
   "display_name": "Python 3",
   "language": "python",
   "name": "python3"
  },
  "language_info": {
   "codemirror_mode": {
    "name": "ipython",
    "version": 3
   },
   "file_extension": ".py",
   "mimetype": "text/x-python",
   "name": "python",
   "nbconvert_exporter": "python",
   "pygments_lexer": "ipython3",
   "version": "3.8.8"
  }
 },
 "nbformat": 4,
 "nbformat_minor": 5
}
